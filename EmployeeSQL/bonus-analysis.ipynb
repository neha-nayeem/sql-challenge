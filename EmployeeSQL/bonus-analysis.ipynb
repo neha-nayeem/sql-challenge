{
 "cells": [
  {
   "cell_type": "markdown",
   "metadata": {},
   "source": [
    "## EMPLOYEE DATABASE: A MYSTERY IN TWO PARTS (BONUS)\n",
    "1. Import the SQL database into Pandas.\n",
    "2. Create a histogram to visualize the most common salary ranges for employees.\n",
    "3. Create a bar chart of average salary by title."
   ]
  },
  {
   "cell_type": "code",
   "execution_count": 1,
   "metadata": {},
   "outputs": [],
   "source": [
    "# --- dependencies and setup ---\n",
    "import pandas as pd\n",
    "import matplotlib.pyplot as plt\n",
    "import os\n",
    "import numpy as np\n",
    "import scipy.stats as sts"
   ]
  },
  {
   "cell_type": "code",
   "execution_count": 4,
   "metadata": {},
   "outputs": [],
   "source": [
    "# **************************************************************************************\n",
    "# Bonus Q1. Import the SQL database into Pandas.\n",
    "# **************************************************************************************\n",
    "\n",
    "# --- get database url from environment variable ---\n",
    "from decouple import config\n",
    "db_url = config('DATABASE_URL')\n",
    "\n",
    "# --- SQL Alchemy connection to Postgres DB ---\n",
    "from sqlalchemy import create_engine\n",
    "engine = create_engine(db_url)\n",
    "connection = engine.connect()\n"
   ]
  },
  {
   "cell_type": "code",
   "execution_count": 4,
   "metadata": {},
   "outputs": [],
   "source": [
    "# --- read data from SQL tables and save into DataFrames ---\n",
    "salaries_df = pd.read_sql_table(\"salaries\", con=connection)\n",
    "titles_df = pd.read_sql_table(\"titles\", con=connection)\n",
    "employees_df = pd.read_sql_table(\"employees\", con=connection)"
   ]
  },
  {
   "cell_type": "code",
   "execution_count": 5,
   "metadata": {},
   "outputs": [
    {
     "data": {
      "text/html": [
       "<div>\n",
       "<style scoped>\n",
       "    .dataframe tbody tr th:only-of-type {\n",
       "        vertical-align: middle;\n",
       "    }\n",
       "\n",
       "    .dataframe tbody tr th {\n",
       "        vertical-align: top;\n",
       "    }\n",
       "\n",
       "    .dataframe thead th {\n",
       "        text-align: right;\n",
       "    }\n",
       "</style>\n",
       "<table border=\"1\" class=\"dataframe\">\n",
       "  <thead>\n",
       "    <tr style=\"text-align: right;\">\n",
       "      <th></th>\n",
       "      <th>emp_no</th>\n",
       "      <th>salary</th>\n",
       "    </tr>\n",
       "  </thead>\n",
       "  <tbody>\n",
       "    <tr>\n",
       "      <th>0</th>\n",
       "      <td>10001</td>\n",
       "      <td>60117</td>\n",
       "    </tr>\n",
       "    <tr>\n",
       "      <th>1</th>\n",
       "      <td>10002</td>\n",
       "      <td>65828</td>\n",
       "    </tr>\n",
       "    <tr>\n",
       "      <th>2</th>\n",
       "      <td>10003</td>\n",
       "      <td>40006</td>\n",
       "    </tr>\n",
       "    <tr>\n",
       "      <th>3</th>\n",
       "      <td>10004</td>\n",
       "      <td>40054</td>\n",
       "    </tr>\n",
       "    <tr>\n",
       "      <th>4</th>\n",
       "      <td>10005</td>\n",
       "      <td>78228</td>\n",
       "    </tr>\n",
       "  </tbody>\n",
       "</table>\n",
       "</div>"
      ],
      "text/plain": [
       "   emp_no  salary\n",
       "0   10001   60117\n",
       "1   10002   65828\n",
       "2   10003   40006\n",
       "3   10004   40054\n",
       "4   10005   78228"
      ]
     },
     "execution_count": 5,
     "metadata": {},
     "output_type": "execute_result"
    }
   ],
   "source": [
    "# --- check salary dataframe ----\n",
    "salaries_df.head()"
   ]
  },
  {
   "cell_type": "code",
   "execution_count": 6,
   "metadata": {},
   "outputs": [
    {
     "data": {
      "text/html": [
       "<div>\n",
       "<style scoped>\n",
       "    .dataframe tbody tr th:only-of-type {\n",
       "        vertical-align: middle;\n",
       "    }\n",
       "\n",
       "    .dataframe tbody tr th {\n",
       "        vertical-align: top;\n",
       "    }\n",
       "\n",
       "    .dataframe thead th {\n",
       "        text-align: right;\n",
       "    }\n",
       "</style>\n",
       "<table border=\"1\" class=\"dataframe\">\n",
       "  <thead>\n",
       "    <tr style=\"text-align: right;\">\n",
       "      <th></th>\n",
       "      <th>title_id</th>\n",
       "      <th>title</th>\n",
       "    </tr>\n",
       "  </thead>\n",
       "  <tbody>\n",
       "    <tr>\n",
       "      <th>0</th>\n",
       "      <td>s0001</td>\n",
       "      <td>Staff</td>\n",
       "    </tr>\n",
       "    <tr>\n",
       "      <th>1</th>\n",
       "      <td>s0002</td>\n",
       "      <td>Senior Staff</td>\n",
       "    </tr>\n",
       "    <tr>\n",
       "      <th>2</th>\n",
       "      <td>e0001</td>\n",
       "      <td>Assistant Engineer</td>\n",
       "    </tr>\n",
       "    <tr>\n",
       "      <th>3</th>\n",
       "      <td>e0002</td>\n",
       "      <td>Engineer</td>\n",
       "    </tr>\n",
       "    <tr>\n",
       "      <th>4</th>\n",
       "      <td>e0003</td>\n",
       "      <td>Senior Engineer</td>\n",
       "    </tr>\n",
       "    <tr>\n",
       "      <th>5</th>\n",
       "      <td>e0004</td>\n",
       "      <td>Technique Leader</td>\n",
       "    </tr>\n",
       "    <tr>\n",
       "      <th>6</th>\n",
       "      <td>m0001</td>\n",
       "      <td>Manager</td>\n",
       "    </tr>\n",
       "  </tbody>\n",
       "</table>\n",
       "</div>"
      ],
      "text/plain": [
       "  title_id               title\n",
       "0    s0001               Staff\n",
       "1    s0002        Senior Staff\n",
       "2    e0001  Assistant Engineer\n",
       "3    e0002            Engineer\n",
       "4    e0003     Senior Engineer\n",
       "5    e0004    Technique Leader\n",
       "6    m0001             Manager"
      ]
     },
     "execution_count": 6,
     "metadata": {},
     "output_type": "execute_result"
    }
   ],
   "source": [
    "# --- check titles dataframe ----\n",
    "titles_df"
   ]
  },
  {
   "cell_type": "code",
   "execution_count": 7,
   "metadata": {},
   "outputs": [
    {
     "data": {
      "text/html": [
       "<div>\n",
       "<style scoped>\n",
       "    .dataframe tbody tr th:only-of-type {\n",
       "        vertical-align: middle;\n",
       "    }\n",
       "\n",
       "    .dataframe tbody tr th {\n",
       "        vertical-align: top;\n",
       "    }\n",
       "\n",
       "    .dataframe thead th {\n",
       "        text-align: right;\n",
       "    }\n",
       "</style>\n",
       "<table border=\"1\" class=\"dataframe\">\n",
       "  <thead>\n",
       "    <tr style=\"text-align: right;\">\n",
       "      <th></th>\n",
       "      <th>emp_no</th>\n",
       "      <th>title_id</th>\n",
       "      <th>birth_date</th>\n",
       "      <th>first_name</th>\n",
       "      <th>last_name</th>\n",
       "      <th>sex</th>\n",
       "      <th>hire_date</th>\n",
       "    </tr>\n",
       "  </thead>\n",
       "  <tbody>\n",
       "    <tr>\n",
       "      <th>0</th>\n",
       "      <td>473302</td>\n",
       "      <td>s0001</td>\n",
       "      <td>1953-07-25</td>\n",
       "      <td>Hideyuki</td>\n",
       "      <td>Zallocco</td>\n",
       "      <td>M</td>\n",
       "      <td>1990-04-28</td>\n",
       "    </tr>\n",
       "    <tr>\n",
       "      <th>1</th>\n",
       "      <td>475053</td>\n",
       "      <td>e0002</td>\n",
       "      <td>1954-11-18</td>\n",
       "      <td>Byong</td>\n",
       "      <td>Delgrande</td>\n",
       "      <td>F</td>\n",
       "      <td>1991-09-07</td>\n",
       "    </tr>\n",
       "    <tr>\n",
       "      <th>2</th>\n",
       "      <td>57444</td>\n",
       "      <td>e0002</td>\n",
       "      <td>1958-01-30</td>\n",
       "      <td>Berry</td>\n",
       "      <td>Babb</td>\n",
       "      <td>F</td>\n",
       "      <td>1992-03-21</td>\n",
       "    </tr>\n",
       "    <tr>\n",
       "      <th>3</th>\n",
       "      <td>421786</td>\n",
       "      <td>s0001</td>\n",
       "      <td>1957-09-28</td>\n",
       "      <td>Xiong</td>\n",
       "      <td>Verhoeff</td>\n",
       "      <td>M</td>\n",
       "      <td>1987-11-26</td>\n",
       "    </tr>\n",
       "    <tr>\n",
       "      <th>4</th>\n",
       "      <td>282238</td>\n",
       "      <td>e0003</td>\n",
       "      <td>1952-10-28</td>\n",
       "      <td>Abdelkader</td>\n",
       "      <td>Baumann</td>\n",
       "      <td>F</td>\n",
       "      <td>1991-01-18</td>\n",
       "    </tr>\n",
       "  </tbody>\n",
       "</table>\n",
       "</div>"
      ],
      "text/plain": [
       "   emp_no title_id birth_date  first_name  last_name sex  hire_date\n",
       "0  473302    s0001 1953-07-25    Hideyuki   Zallocco   M 1990-04-28\n",
       "1  475053    e0002 1954-11-18       Byong  Delgrande   F 1991-09-07\n",
       "2   57444    e0002 1958-01-30       Berry       Babb   F 1992-03-21\n",
       "3  421786    s0001 1957-09-28       Xiong   Verhoeff   M 1987-11-26\n",
       "4  282238    e0003 1952-10-28  Abdelkader    Baumann   F 1991-01-18"
      ]
     },
     "execution_count": 7,
     "metadata": {},
     "output_type": "execute_result"
    }
   ],
   "source": [
    "# --- check employees dataframe ----\n",
    "employees_df.head()\n",
    "\n",
    "# --- rename emp_title_id field for merging with titles dataframe later ---\n",
    "employees_df.rename(columns={\"emp_title_id\":\"title_id\"}, inplace=True)\n",
    "employees_df.head()"
   ]
  },
  {
   "cell_type": "code",
   "execution_count": 8,
   "metadata": {},
   "outputs": [
    {
     "name": "stdout",
     "output_type": "stream",
     "text": [
      "-----------------------------------------------\n",
      "The average salary is $52970.73\n",
      "The median salary is $48681.0\n",
      "The mode salary is $40000\n",
      "The variance is 204531605.31\n",
      "The standard deviation is 14301.45\n",
      "-----------------------------------------------\n"
     ]
    },
    {
     "data": {
      "image/png": "[encoded data removed]",
      "text/plain": [
       "<Figure size 720x432 with 1 Axes>"
      ]
     },
     "metadata": {
      "needs_background": "light"
     },
     "output_type": "display_data"
    }
   ],
   "source": [
    "# **************************************************************************************\n",
    "# Bonus Q2. Create a histogram to visualize the most common salary ranges for employees.\n",
    "# **************************************************************************************\n",
    "\n",
    "# --- retrieve salary data ---\n",
    "salaries = salaries_df['salary']\n",
    "\n",
    "# --- calculate measures of central tendency ---\n",
    "print(\"-----------------------------------------------\")\n",
    "mean_sal = np.mean(salaries)\n",
    "print(f\"The average salary is ${round(mean_sal, 2)}\")\n",
    "\n",
    "median_sal = np.median(salaries)\n",
    "print(f\"The median salary is ${round(median_sal, 2)}\")\n",
    "\n",
    "mode_sal = sts.mode(salaries)\n",
    "print(f\"The mode salary is ${mode_sal[0][0]}\")\n",
    "\n",
    "# --- calculate the variance and standard deviation ---\n",
    "var_sal = np.var(salaries, ddof = 0)\n",
    "print(f\"The variance is {round(var_sal, 2)}\")\n",
    "\n",
    "std_sal = np.std(salaries, ddof = 0)\n",
    "print(f\"The standard deviation is {round(std_sal, 2)}\")\n",
    "print(\"-----------------------------------------------\")\n",
    "\n",
    "# --- plot histogram using pyplot ---\n",
    "plt.figure(figsize=(10,6))\n",
    "plt.hist(salaries, color='powderblue')\n",
    "\n",
    "# --- set titles, labels ---\n",
    "plt.xlabel('Salary ($)', fontsize=12)\n",
    "plt.ylabel('Frequency', fontsize=12)\n",
    "plt.title('Salary Ranges for Employees', fontsize=16)\n",
    "\n",
    "plt.tight_layout()\n",
    "plt.savefig('images/histogram.png')\n",
    "plt.show()"
   ]
  },
  {
   "cell_type": "code",
   "execution_count": 9,
   "metadata": {},
   "outputs": [
    {
     "data": {
      "text/html": [
       "<style  type=\"text/css\" >\n",
       "</style><table id=\"T_857fc042_c541_11ea_af7c_88e9fe64d24b\" ><thead>    <tr>        <th class=\"blank level0\" ></th>        <th class=\"col_heading level0 col0\" >avg salary ($)</th>    </tr>    <tr>        <th class=\"index_name level0\" >title</th>        <th class=\"blank\" ></th>    </tr></thead><tbody>\n",
       "                <tr>\n",
       "                        <th id=\"T_857fc042_c541_11ea_af7c_88e9fe64d24blevel0_row0\" class=\"row_heading level0 row0\" >Assistant Engineer</th>\n",
       "                        <td id=\"T_857fc042_c541_11ea_af7c_88e9fe64d24brow0_col0\" class=\"data row0 col0\" >$48,564.43</td>\n",
       "            </tr>\n",
       "            <tr>\n",
       "                        <th id=\"T_857fc042_c541_11ea_af7c_88e9fe64d24blevel0_row1\" class=\"row_heading level0 row1\" >Engineer</th>\n",
       "                        <td id=\"T_857fc042_c541_11ea_af7c_88e9fe64d24brow1_col0\" class=\"data row1 col0\" >$48,535.34</td>\n",
       "            </tr>\n",
       "            <tr>\n",
       "                        <th id=\"T_857fc042_c541_11ea_af7c_88e9fe64d24blevel0_row2\" class=\"row_heading level0 row2\" >Manager</th>\n",
       "                        <td id=\"T_857fc042_c541_11ea_af7c_88e9fe64d24brow2_col0\" class=\"data row2 col0\" >$51,531.04</td>\n",
       "            </tr>\n",
       "            <tr>\n",
       "                        <th id=\"T_857fc042_c541_11ea_af7c_88e9fe64d24blevel0_row3\" class=\"row_heading level0 row3\" >Senior Engineer</th>\n",
       "                        <td id=\"T_857fc042_c541_11ea_af7c_88e9fe64d24brow3_col0\" class=\"data row3 col0\" >$48,506.80</td>\n",
       "            </tr>\n",
       "            <tr>\n",
       "                        <th id=\"T_857fc042_c541_11ea_af7c_88e9fe64d24blevel0_row4\" class=\"row_heading level0 row4\" >Senior Staff</th>\n",
       "                        <td id=\"T_857fc042_c541_11ea_af7c_88e9fe64d24brow4_col0\" class=\"data row4 col0\" >$58,550.17</td>\n",
       "            </tr>\n",
       "            <tr>\n",
       "                        <th id=\"T_857fc042_c541_11ea_af7c_88e9fe64d24blevel0_row5\" class=\"row_heading level0 row5\" >Staff</th>\n",
       "                        <td id=\"T_857fc042_c541_11ea_af7c_88e9fe64d24brow5_col0\" class=\"data row5 col0\" >$58,465.38</td>\n",
       "            </tr>\n",
       "            <tr>\n",
       "                        <th id=\"T_857fc042_c541_11ea_af7c_88e9fe64d24blevel0_row6\" class=\"row_heading level0 row6\" >Technique Leader</th>\n",
       "                        <td id=\"T_857fc042_c541_11ea_af7c_88e9fe64d24brow6_col0\" class=\"data row6 col0\" >$48,582.90</td>\n",
       "            </tr>\n",
       "    </tbody></table>"
      ],
      "text/plain": [
       "<pandas.io.formats.style.Styler at 0x1a22bb3650>"
      ]
     },
     "execution_count": 9,
     "metadata": {},
     "output_type": "execute_result"
    }
   ],
   "source": [
    "# ***********************************************************\n",
    "# Bonus Q3. Create a bar chart of average salary by title\n",
    "# ***********************************************************\n",
    "\n",
    "# --- merge employees, salaries and titles dataframes to get the relevant data to plot (title, salary) ---\n",
    "emp_salaries_df = pd.merge(employees_df, salaries_df, on=\"emp_no\")\n",
    "title_salaries_df = pd.merge(emp_salaries_df, titles_df, on=\"title_id\")\n",
    "\n",
    "# --- cleaning the table: remove unnecessary rows and only keep those required for plotting ---\n",
    "title_salaries_df.drop([\"emp_no\", \"title_id\", \"birth_date\", \"first_name\", \"last_name\", \"sex\", \"hire_date\"], \n",
    "                        axis=1, inplace=True)\n",
    "\n",
    "# --- create a group by object on title with average salaries ---\n",
    "average_salaries = title_salaries_df.groupby(\"title\").mean().round(2)\n",
    "\n",
    "# --- display formatted average salary dataframe ---\n",
    "average_salaries.rename(columns={\"salary\":\"avg salary ($)\"}, inplace=True)\n",
    "average_salaries.style.format(\"${:,.2f}\")"
   ]
  },
  {
   "cell_type": "code",
   "execution_count": 11,
   "metadata": {},
   "outputs": [
    {
     "data": {
      "image/png": "[encoded data removed]",
      "text/plain": [
       "<Figure size 720x432 with 1 Axes>"
      ]
     },
     "metadata": {
      "needs_background": "light"
     },
     "output_type": "display_data"
    }
   ],
   "source": [
    "# PLOTTING\n",
    "\n",
    "# --- set x-axis, y-axis and x-ticklabels ---\n",
    "x_values = average_salaries.index\n",
    "y_values = average_salaries[\"avg salary ($)\"]\n",
    "xticks = np.arange(len(x_values))\n",
    "\n",
    "# --- colors for each bar ---\n",
    "colors=[\"seagreen\", \"darkseagreen\", \"yellowgreen\", \"gold\", \"orange\", \"darkorange\", \"chocolate\"]\n",
    "\n",
    "# --- plot the data using pyplot ---\n",
    "plt.figure(figsize=(10,6))\n",
    "plt.bar(x_values, y_values, color=colors, alpha=0.6, align=\"center\")\n",
    "\n",
    "# --- x-tick locations ---\n",
    "tick_locations = [value for value in x_values]\n",
    "plt.xticks(tick_locations, x_values, rotation=25)\n",
    "\n",
    "# --- titles, labels and limits ---\n",
    "plt.xlabel(\"Title\", fontsize=12)\n",
    "plt.ylabel(\"Salary ($)\", fontsize=12)\n",
    "plt.title(\"Average Salary by Title\", fontsize=16)\n",
    "\n",
    "plt.xlim(-0.75, len(x_values)-0.25)\n",
    "plt.ylim(0, max(y_values)+7000)\n",
    "\n",
    "plt.tight_layout()\n",
    "plt.savefig(\"images/avg_sal_title.png\")\n",
    "plt.show()\n",
    "\n"
   ]
  },
  {
   "cell_type": "code",
   "execution_count": null,
   "metadata": {},
   "outputs": [],
   "source": []
  }
 ],
 "metadata": {
  "kernelspec": {
   "display_name": "Python 3",
   "language": "python",
   "name": "python3"
  },
  "language_info": {
   "codemirror_mode": {
    "name": "ipython",
    "version": 3
   },
   "file_extension": ".py",
   "mimetype": "text/x-python",
   "name": "python",
   "nbconvert_exporter": "python",
   "pygments_lexer": "ipython3",
   "version": "3.7.6"
  }
 },
 "nbformat": 4,
 "nbformat_minor": 4
}
